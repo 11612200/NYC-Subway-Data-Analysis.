{
 "cells": [
  {
   "cell_type": "markdown",
   "metadata": {},
   "source": [
    "### *Mean-2*\n",
    "\n",
    "Calculating the mean of the minimum temperature 'mintempi' for the days when the minimum temperature was greater that 55 degrees:"
   ]
  },
  {
   "cell_type": "code",
   "execution_count": 1,
   "metadata": {},
   "outputs": [
    {
     "name": "stdout",
     "output_type": "stream",
     "text": [
      "63.2699012987013\n"
     ]
    }
   ],
   "source": [
    "import pandas as pd\n",
    "def avg_min_temperature(filename):\n",
    "    avg_min_temp_rainy=0\n",
    "    count=0\n",
    "    df =pd.read_csv(filename, sep=\",\")\n",
    "    for index, row in df.iterrows():\n",
    "        if(row[\"mintempi\"]>55):\n",
    "            avg_min_temp_rainy+=row[\"mintempi\"]\n",
    "            count+=1\n",
    "            \n",
    "    avg_min_temp_rainy=avg_min_temp_rainy/count        \n",
    "            \n",
    "        \n",
    "    return avg_min_temp_rainy\n",
    "\n",
    "filename = \"turnstile_data_master_with_weather.csv\"\n",
    "mean=avg_min_temperature(filename)\n",
    "print(mean)"
   ]
  },
  {
   "cell_type": "code",
   "execution_count": null,
   "metadata": {},
   "outputs": [],
   "source": []
  }
 ],
 "metadata": {
  "kernelspec": {
   "display_name": "Python 3",
   "language": "python",
   "name": "python3"
  },
  "language_info": {
   "codemirror_mode": {
    "name": "ipython",
    "version": 3
   },
   "file_extension": ".py",
   "mimetype": "text/x-python",
   "name": "python",
   "nbconvert_exporter": "python",
   "pygments_lexer": "ipython3",
   "version": "3.6.5"
  }
 },
 "nbformat": 4,
 "nbformat_minor": 2
}
