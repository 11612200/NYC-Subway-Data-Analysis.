{
 "cells": [
  {
   "cell_type": "markdown",
   "metadata": {},
   "source": [
    "### *Mean-1*\n",
    "\n",
    "Now, calculate the mean for 'meantempi' for the days that are Saturdays or Sundays (weekend):"
   ]
  },
  {
   "cell_type": "code",
   "execution_count": 18,
   "metadata": {},
   "outputs": [
    {
     "name": "stdout",
     "output_type": "stream",
     "text": [
      "65.10066685403307\n"
     ]
    }
   ],
   "source": [
    "import pandas as pd\n",
    "import datetime\n",
    "from datetime import datetime\n",
    "\n",
    "def avg_weekend_temperature(filename):\n",
    "    mean_temp_weekends =0\n",
    "    count=0\n",
    "    \n",
    "    df=pd.read_csv(filename, sep=\",\")\n",
    "    df['DATEn']=pd.to_datetime(df['DATEn'])\n",
    "    for index, row in df.iterrows():\n",
    "        if(row['DATEn'].weekday()==5 or row['DATEn'].weekday()==6):\n",
    "            mean_temp_weekends +=row[\"meantempi\"]\n",
    "            count+=1\n",
    "    mean_temp_weekends =mean_temp_weekends/count   \n",
    "    return mean_temp_weekends\n",
    "    \n",
    "filename = \"turnstile_data_master_with_weather.csv\"\n",
    "mean=(avg_weekend_temperature(filename))\n",
    "print(mean)"
   ]
  },
  {
   "cell_type": "code",
   "execution_count": null,
   "metadata": {},
   "outputs": [],
   "source": []
  }
 ],
 "metadata": {
  "kernelspec": {
   "display_name": "Python 3",
   "language": "python",
   "name": "python3"
  },
  "language_info": {
   "codemirror_mode": {
    "name": "ipython",
    "version": 3
   },
   "file_extension": ".py",
   "mimetype": "text/x-python",
   "name": "python",
   "nbconvert_exporter": "python",
   "pygments_lexer": "ipython3",
   "version": "3.6.5"
  }
 },
 "nbformat": 4,
 "nbformat_minor": 2
}
