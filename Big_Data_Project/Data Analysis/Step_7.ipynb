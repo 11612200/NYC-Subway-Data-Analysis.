{
 "cells": [
  {
   "cell_type": "markdown",
   "metadata": {},
   "source": [
    "### *Means-3*\n",
    "\n",
    "Build a function that returns:\n",
    "\n",
    "1. The mean of entries when it's raining\n",
    "2. The mean of entries when it's not raining\n",
    "\n",
    "\n"
   ]
  },
  {
   "cell_type": "code",
   "execution_count": 10,
   "metadata": {},
   "outputs": [
    {
     "name": "stdout",
     "output_type": "stream",
     "text": [
      "1105.4463767458733\n",
      "1090.278780151855\n"
     ]
    }
   ],
   "source": [
    "import numpy as np\n",
    "\n",
    "import pandas as pd\n",
    "\n",
    "def means(turnstile_weather):\n",
    "    count1=0\n",
    "    count2=0\n",
    "    with_rain_mean=0\n",
    "    without_rain_mean=0\n",
    "    for index, row in turnstile_weather.iterrows():\n",
    "        if(row[\"rain\"]==1):\n",
    "            with_rain_mean+=row['ENTRIESn_hourly']\n",
    "            count1+=1\n",
    "        elif row['rain']==0:\n",
    "            without_rain_mean+=row['ENTRIESn_hourly']\n",
    "            count2+=1\n",
    "    with_rain_mean=with_rain_mean/count1\n",
    "    without_rain_mean=without_rain_mean/count2\n",
    "    \n",
    "    return with_rain_mean,without_rain_mean\n",
    "\n",
    "filename = \"turnstile_data_master_with_weather.csv\"\n",
    "turnstile_weather=pd.read_csv(filename, sep=\",\")\n",
    "m1,m2=means(turnstile_weather)\n",
    "\n",
    "print(m1)\n",
    "print(m2)\n",
    "    "
   ]
  },
  {
   "cell_type": "code",
   "execution_count": null,
   "metadata": {},
   "outputs": [],
   "source": []
  }
 ],
 "metadata": {
  "kernelspec": {
   "display_name": "Python 3",
   "language": "python",
   "name": "python3"
  },
  "language_info": {
   "codemirror_mode": {
    "name": "ipython",
    "version": 3
   },
   "file_extension": ".py",
   "mimetype": "text/x-python",
   "name": "python",
   "nbconvert_exporter": "python",
   "pygments_lexer": "ipython3",
   "version": "3.6.5"
  }
 },
 "nbformat": 4,
 "nbformat_minor": 2
}
