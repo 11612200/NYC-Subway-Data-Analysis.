{
 "cells": [
  {
   "cell_type": "markdown",
   "metadata": {},
   "source": [
    "### *No. of rainy days*\n",
    "\n",
    "Now, we are creating a function that calculates the number of rainy days. For this, returning the count of the number of days where the column *\"rain\"* is equal to 1."
   ]
  },
  {
   "cell_type": "code",
   "execution_count": 11,
   "metadata": {},
   "outputs": [
    {
     "name": "stdout",
     "output_type": "stream",
     "text": [
      "44104\n"
     ]
    }
   ],
   "source": [
    "import pandas as pd\n",
    "\n",
    "def num_rainy_days(df):\n",
    "    count=0\n",
    "    \n",
    "    df['rain']=df['rain'].astype(int)\n",
    "    for index, row in df.iterrows():\n",
    "        if row['rain']==1:\n",
    "            count+=1\n",
    "    return count        \n",
    "    \n",
    "filename = \"turnstile_data_master_with_weather.csv\"\n",
    "df=pd.read_csv(filename, sep=\",\")\n",
    "days=num_rainy_days(df)\n",
    "print(days)"
   ]
  },
  {
   "cell_type": "code",
   "execution_count": null,
   "metadata": {},
   "outputs": [],
   "source": []
  }
 ],
 "metadata": {
  "kernelspec": {
   "display_name": "Python 3",
   "language": "python",
   "name": "python3"
  },
  "language_info": {
   "codemirror_mode": {
    "name": "ipython",
    "version": 3
   },
   "file_extension": ".py",
   "mimetype": "text/x-python",
   "name": "python",
   "nbconvert_exporter": "python",
   "pygments_lexer": "ipython3",
   "version": "3.6.5"
  }
 },
 "nbformat": 4,
 "nbformat_minor": 2
}
