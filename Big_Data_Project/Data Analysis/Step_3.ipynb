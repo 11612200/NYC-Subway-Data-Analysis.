{
 "cells": [
  {
   "cell_type": "markdown",
   "metadata": {},
   "source": [
    "### *Max. Temp. for fog*\n",
    "\n",
    "Calculate if the day was cloudy or not (0 or 1) and the maximum temperature for fog (i.e. the maximum temperature \n",
    "     for cloudy days)."
   ]
  },
  {
   "cell_type": "code",
   "execution_count": 4,
   "metadata": {},
   "outputs": [
    {
     "name": "stdout",
     "output_type": "stream",
     "text": [
      "81.0\n"
     ]
    }
   ],
   "source": [
    "import pandas as pd\n",
    "\n",
    "def max_temp_aggregate_by_fog(df):\n",
    "    l=[]\n",
    "    for index, row in df.iterrows():\n",
    "        if(row[\"fog\"]==1):\n",
    "            l.append(row['maxtempi'])\n",
    "           \n",
    "    m=max(l)        \n",
    "    return m        \n",
    "    \n",
    "filename = \"turnstile_data_master_with_weather.csv\"\n",
    "df=pd.read_csv(filename, sep=\",\")\n",
    "maxtemp=max_temp_aggregate_by_fog(df)\n",
    "print(maxtemp)"
   ]
  },
  {
   "cell_type": "code",
   "execution_count": null,
   "metadata": {},
   "outputs": [],
   "source": []
  }
 ],
 "metadata": {
  "kernelspec": {
   "display_name": "Python 3",
   "language": "python",
   "name": "python3"
  },
  "language_info": {
   "codemirror_mode": {
    "name": "ipython",
    "version": 3
   },
   "file_extension": ".py",
   "mimetype": "text/x-python",
   "name": "python",
   "nbconvert_exporter": "python",
   "pygments_lexer": "ipython3",
   "version": "3.6.5"
  }
 },
 "nbformat": 4,
 "nbformat_minor": 2
}
