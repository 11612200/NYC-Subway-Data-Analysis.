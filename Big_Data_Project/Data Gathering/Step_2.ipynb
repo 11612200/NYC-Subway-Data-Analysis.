{
 "cells": [
  {
   "cell_type": "markdown",
   "metadata": {},
   "source": [
    "### **Merging**\n",
    "\n",
    "Writing  down a function that takes the list of all names of the files we downloaded in Step_1_1 and compile them into one single file. There must be only one header line in the output file. \n",
    "\n",
    "For example, if file_1 has:\n",
    "line 1...\n",
    "line 2...\n",
    "\n",
    "and the other file, file_2, has:\n",
    "line 3...\n",
    "line 4...\n",
    "line 5...\n",
    "\n",
    "We must combine file_1 and file_2 into one master file, as follows:\n",
    "\n",
    "'C/A, UNIT, SCP, DATEn, TIMEn, DESCn, ENTRIESn, EXITSn'\n",
    "line 1...\n",
    "line 2...\n",
    "line 3...\n",
    "line 4...\n",
    "line 5...\n"
   ]
  },
  {
   "cell_type": "code",
   "execution_count": 3,
   "metadata": {},
   "outputs": [],
   "source": [
    "files=['turnstile_170603.txt','turnstile_170610.txt','turnstile_170617.txt','turnstile_170624.txt']\n",
    "outfile='master_file.txt'\n",
    "def create_master_turnstile_file(filenames,output_file):\n",
    "    with open(output_file,'w')as master_file:\n",
    "        master_file.write('C/A,UNIT,SCP,STATION, LINENAME, DIVISION, DATEn,TIMEn,DESCn,ENTRIESn,EXITSn\\n')\n",
    "        for filename in filenames:\n",
    "            with open(filename,'r') as f1:\n",
    "                cnt=0\n",
    "                for line in f1:\n",
    "                    if cnt>0:\n",
    "                        master_file.write(line)\n",
    "                    cnt+=1\n",
    "create_master_turnstile_file(files,outfile)                    "
   ]
  },
  {
   "cell_type": "code",
   "execution_count": null,
   "metadata": {},
   "outputs": [],
   "source": []
  }
 ],
 "metadata": {
  "kernelspec": {
   "display_name": "Python 3",
   "language": "python",
   "name": "python3"
  },
  "language_info": {
   "codemirror_mode": {
    "name": "ipython",
    "version": 3
   },
   "file_extension": ".py",
   "mimetype": "text/x-python",
   "name": "python",
   "nbconvert_exporter": "python",
   "pygments_lexer": "ipython3",
   "version": "3.6.5"
  }
 },
 "nbformat": 4,
 "nbformat_minor": 2
}
