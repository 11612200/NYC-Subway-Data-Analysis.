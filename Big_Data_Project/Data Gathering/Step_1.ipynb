{
 "cells": [
  {
   "cell_type": "markdown",
   "metadata": {},
   "source": [
    "### **1) Downloading**\n",
    "### Writing bellow a Python code to access the link http://web.mta.info/developers/turnstile.html and download all files from June 2017. The file must be named turnstile_100617.txt, where 10/06/17 is the file's date.\n",
    "### A tip to only download the files from June is to check data in the name of the file. For instance, to donwload the 17/06/2017 file, please see if the link ends with \"turnstile_170610.txt\". If you forget to do this, you will download all files from that page."
   ]
  },
  {
   "cell_type": "code",
   "execution_count": 2,
   "metadata": {},
   "outputs": [
    {
     "name": "stdout",
     "output_type": "stream",
     "text": [
      "done\n"
     ]
    }
   ],
   "source": [
    "import urllib\n",
    "import urllib.request\n",
    "from bs4 import BeautifulSoup\n",
    "\n",
    "u = urllib.request.urlopen('http://web.mta.info/developers/turnstile.html')\n",
    "link = u.read()\n",
    "read = BeautifulSoup(link,\"html.parser\")\n",
    "anch = read.find_all('a')\n",
    "\n",
    "for i in anch:\n",
    "    url = i.get(\"href\")\n",
    "    if url is not None  and'1706' in url:\n",
    "        filename = 'turnstile_'\n",
    "        filename = filename+url[-10:-8]+url[-8:-6]+url[-6:-4]+\".txt\"\n",
    "        string = \"http://web.mta.info/developers/\"+url\n",
    "        urllib.request.urlretrieve(string,filename)\n",
    "print(\"done\")"
   ]
  },
  {
   "cell_type": "code",
   "execution_count": null,
   "metadata": {},
   "outputs": [],
   "source": []
  }
 ],
 "metadata": {
  "kernelspec": {
   "display_name": "Python 3",
   "language": "python",
   "name": "python3"
  },
  "language_info": {
   "codemirror_mode": {
    "name": "ipython",
    "version": 3
   },
   "file_extension": ".py",
   "mimetype": "text/x-python",
   "name": "python",
   "nbconvert_exporter": "python",
   "pygments_lexer": "ipython3",
   "version": "3.6.5"
  }
 },
 "nbformat": 4,
 "nbformat_minor": 2
}
