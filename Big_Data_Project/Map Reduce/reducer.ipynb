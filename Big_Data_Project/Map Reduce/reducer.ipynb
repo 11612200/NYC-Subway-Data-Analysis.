{
 "cells": [
  {
   "cell_type": "markdown",
   "metadata": {},
   "source": [
    "### *Reducer*\n",
    "\n",
    "Now, creating the reducer. Given the mapper result from the mapper_result.txt, the reducer must print (not return) one line per UNIT, with the total number of ENTRIESn_hourly during May (which is our data duration), separated by a tab. An example of exit line from the reducer may look like this: 'R001 \\ t500625.0'\n",
    "\n",
    "We can assume that the entry for the reducer is ordered in a way that all lines corresponding to a particular unit are grouped. However, the reducer exit will have repetition, as there are stores that appear in different files' locations.\n",
    "\n",
    "Exporting our reducer into a file named reducer_result.txt."
   ]
  },
  {
   "cell_type": "code",
   "execution_count": 2,
   "metadata": {},
   "outputs": [],
   "source": [
    "import sys\n",
    "\n",
    "def reducer():\n",
    "    \n",
    "    hourTotal=0\n",
    "    oldKey=None\n",
    "    for line in sys.stdin:\n",
    "        mapped_data=line.strip().split('\\t')\n",
    "        if len(mapped_data)!=2:\n",
    "            continue\n",
    "        Key,Hour=mapped_data\n",
    "        Hour=float(Hour)\n",
    "        if oldKey and oldKey!=Key:\n",
    "            print(oldKey,'\\t',hourTotal)\n",
    "            oldKey=Key\n",
    "            hourTotal=0\n",
    "        oldKey=Key\n",
    "        hourTotal+=float(Hour)\n",
    "        \n",
    "    if oldKey!=None:\n",
    "        print(oldKey,'\\t',hourTotal)\n",
    "\n",
    "        \n",
    "reducer()\n",
    "sys.stdin = open('mapper_result1.txt')\n",
    "sys.stdout = open('reducer_result2.txt', 'w')"
   ]
  },
  {
   "cell_type": "code",
   "execution_count": null,
   "metadata": {},
   "outputs": [],
   "source": []
  }
 ],
 "metadata": {
  "kernelspec": {
   "display_name": "Python 3",
   "language": "python",
   "name": "python3"
  },
  "language_info": {
   "codemirror_mode": {
    "name": "ipython",
    "version": 3
   },
   "file_extension": ".py",
   "mimetype": "text/x-python",
   "name": "python",
   "nbconvert_exporter": "python",
   "pygments_lexer": "ipython3",
   "version": "3.6.5"
  }
 },
 "nbformat": 4,
 "nbformat_minor": 2
}
